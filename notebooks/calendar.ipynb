{
 "cells": [
  {
   "cell_type": "code",
   "execution_count": 162,
   "metadata": {},
   "outputs": [],
   "source": [
    "import icalendar\n",
    "from datetime import datetime \n",
    "from bs4 import BeautifulSoup\n",
    "import word2vec\n",
    "import gensim"
   ]
  },
  {
   "cell_type": "code",
   "execution_count": 119,
   "metadata": {},
   "outputs": [],
   "source": [
    "def display(cal):\n",
    "    return cal.to_ical().decode('utf-8').strip().split('\\r\\n')\n"
   ]
  },
  {
   "cell_type": "code",
   "execution_count": 120,
   "metadata": {},
   "outputs": [],
   "source": [
    "cal = icalendar.Calendar()\n",
    "cal.add('prodid', '-//We Build Org//calendar//EN')\n",
    "cal.add('version', '2.0')"
   ]
  },
  {
   "cell_type": "code",
   "execution_count": 121,
   "metadata": {},
   "outputs": [],
   "source": [
    "event = icalendar.Event()\n",
    "event['uid'] = '42'\n",
    "event['dtstart'] = icalendar.vDatetime(datetime.datetime.utcfromtimestamp(1521540000))\n",
    "event['dtstamp'] = icalendar.vDatetime(datetime.datetime.now())\n",
    "event['dtend'] = icalendar.vDatetime(datetime.datetime.utcfromtimestamp(1521540000))\n",
    "event['url'] = 'https://www.meetup.com/Drupal-SG/events/248051737/'\n",
    "event['location'] = 'SGX London Room Level 6, 11 North Buona Vista Drive, #06-07,The Metropolis Tower 2, Singapore'\n",
    "event['description'] = '<p>How to speak in conferences - by <b>Tavo Eliaso</b></p>'"
   ]
  },
  {
   "cell_type": "code",
   "execution_count": 109,
   "metadata": {},
   "outputs": [],
   "source": [
    "with open('example.ics', 'wb') as file:\n",
    "    file.write(cal.to_ical())"
   ]
  },
  {
   "cell_type": "code",
   "execution_count": 157,
   "metadata": {},
   "outputs": [],
   "source": [
    "html_doc=\"<p><b>Farm to Fok- Collaborative Farming.</b></p> <p>Greater use of collaborative farming arrangements can help reduce the current deficits and help deliver on the ambitious targets. Let us explore the role of technology innovation in accelerating food production systems and feed the ever increasing world population. </p> <p><b>AGENDA:</b> </p> <p>18:30 - 18:50- Registration &amp;Networking over Snacks &amp; Drinks</p> <p>18:50 - 19:15- IoTSG Introduction, Agriculture 4.0 by CK</p> <p>19:15 - 19:45- Food and energy solutions: empowerment through education by Kerry</p> <p>19:45 - 20:15- AgriTech use cases, opportunities &amp; challenges by Jannat</p> <p>20:15 - 20:35- Creating an inclusive technology  framework for collaborative farming by Darshan</p> <p>20:35+ - QnA, Networking Continued</p> <p><b>SPEAKERS:</b>  </p> <p><img src=\\\"https://cdn.evbuc.com/eventlogos/701737/speaker-2.png\\\" /></p> <p><b>NOTE: Please bring along your business cards for registration</b></p> <p><b>VENUE: NUS Enterprise, #02-01, 71 Ayer Rajah Crescent</b><a href=\\\"https://www.google.com.sg/maps/place/Google+Singapore/@1.2763981,103.7973382,17z/data=!3m2!4b1!5s0x31da1bc7441bb971:0xad0170a70dbbebc4!4m5!3m4!1s0x31da1911f12998e9:0x43e454b88753032a!8m2!3d1.2763927!4d103.7995269?hl=en\\\"><br/></a></p> <p><img src=\\\"https://cdn.evbuc.com/eventlogos/701737/sponsers.png\\\" /></p> <p><a href=\\\"https://www.meetup.com/iot_sg/\\\"><b>Join IoTSG</b></a></p> <p><a href=\\\"https://goo.gl/forms/FvTquNP7RiyS6f1m1\\\">Join IoTSG Validated network, fill in your details.</a></p> <p>***************************************************************** </p> <p>Note: Please note that photography and videography may be carried out throughout the event.  IoT SG, Event Sponsors, Supporters may use some or all of these images in its print publications, digital, social platforms and/or marketing channels. We also ask some personal information and questions during registration. This data is used to do further due diligence to improve the quality of events. This data may also be shared with sponsoring organizations, speakers to help them to collaborate more efficiently. We do not sell your data.</p>\"\n",
    "html_doc=\"<p>Organizer:<br/>Flybot Pte Ltd</p> <p>Sponsor:<br/>Credit Suisse</p> <p>Agenda:<br/>6:30 pm - Food &amp; drinks<br/>7:00 pm - Time Travel with Clojure - Examples of functional primitives and algorithms to navigate temporal dime By Atamert Ölçgen (a Language enthusiast, FP tyrant, closet nerd.)<br/>8:00pm - Onyx for Distributed Computing by Mauro Lopes.</p> <p>Note to Attendees:<br/>Kindly update your attendance before the date of the meetup in order for venue sponsor to setup the place and provide accurate quantity of pizza to prevent wastage.</p>\"\n",
    "soup = BeautifulSoup(html_doc, 'html.parser')"
   ]
  },
  {
   "cell_type": "code",
   "execution_count": 159,
   "metadata": {},
   "outputs": [
    {
     "data": {
      "text/plain": [
       "'Organizer:\\nFlybot Pte Ltd\\n\\nSponsor:\\nCredit Suisse\\n\\nAgenda:\\n6:30 pm - Food & drinks\\n7:00 pm - Time Travel with Clojure - Examples of functional primitives and algorithms to navigate temporal dime By Atamert Ölçgen (a Language enthusiast, FP tyrant, closet nerd.)\\n8:00pm - Onyx for Distributed Computing by Mauro Lopes.\\n\\nNote to Attendees:\\nKindly update your attendance before the date of the meetup in order for venue sponsor to setup the place and provide accurate quantity of pizza to prevent wastage.'"
      ]
     },
     "execution_count": 159,
     "metadata": {},
     "output_type": "execute_result"
    }
   ],
   "source": [
    "for b in soup.find_all('br'):\n",
    "    b.replace_with('\\n')\n",
    "'\\n\\n'.join([p.get_text() for p in soup.find_all('p')])\n"
   ]
  },
  {
   "cell_type": "code",
   "execution_count": 169,
   "metadata": {},
   "outputs": [
    {
     "data": {
      "text/plain": [
       "array([ 7.76351430e-04,  8.46833791e-06,  2.69455253e-04, -3.42136691e-03,\n",
       "        1.59444963e-03,  4.49339859e-03,  9.96952993e-04,  1.78850745e-03,\n",
       "       -8.68418312e-04, -1.18011830e-03, -4.71536815e-03,  2.49362295e-03,\n",
       "       -1.28122163e-03, -3.97530710e-03,  4.61538928e-03, -3.92583525e-03,\n",
       "        3.42758751e-04, -7.84588396e-04, -3.75692430e-03, -1.57586503e-04,\n",
       "        3.40899522e-03,  1.17484386e-04,  2.97752861e-03,  4.83772950e-03,\n",
       "        3.40671674e-03, -2.00214447e-03, -3.13536450e-03, -4.20306250e-03,\n",
       "        1.06358074e-03, -2.85219605e-04, -5.98780811e-04,  3.63343232e-03,\n",
       "        4.72301664e-03, -3.62641574e-03, -6.11978467e-04,  9.93493595e-04,\n",
       "        2.66619329e-03, -4.96184640e-03,  4.78328718e-03, -1.73755886e-03,\n",
       "        2.07969430e-03,  4.06583259e-03,  1.14103244e-03, -5.87491610e-04,\n",
       "       -3.12076532e-03, -2.41479930e-03, -4.82433802e-03,  3.19174433e-04,\n",
       "        6.14622317e-04, -1.26519764e-03, -1.26821152e-03,  2.11564498e-03,\n",
       "        1.53551972e-03,  7.71690742e-04, -2.27539730e-03,  4.68753232e-03,\n",
       "        1.27103107e-04,  8.65762355e-04,  2.06090650e-03, -2.47149519e-03,\n",
       "        1.82418141e-03, -2.82686576e-03,  1.71193876e-03,  2.31528000e-04,\n",
       "        4.37101955e-03, -1.99764781e-03,  2.14422774e-03,  8.25277006e-04,\n",
       "       -3.91024951e-04,  3.00622382e-03, -1.94022054e-04, -2.66063423e-03,\n",
       "        1.45116798e-03, -3.56543763e-03, -3.61511088e-03,  3.92005825e-03,\n",
       "       -1.49132998e-03,  2.11622217e-03,  9.45114356e-04, -1.23863225e-04,\n",
       "        2.82054214e-04,  7.66130222e-04, -2.64329067e-03,  4.37186332e-03,\n",
       "       -7.35244306e-04,  2.71057803e-03,  3.71499290e-03, -1.89431943e-03,\n",
       "        2.50906195e-03,  3.59268743e-03, -2.08622380e-03, -2.15754588e-03,\n",
       "       -2.64130952e-03, -3.35291866e-03, -7.47208716e-04, -2.52011069e-03,\n",
       "        2.85452115e-03,  2.49898969e-03, -8.50118231e-04,  8.50521319e-04],\n",
       "      dtype=float32)"
      ]
     },
     "execution_count": 169,
     "metadata": {},
     "output_type": "execute_result"
    }
   ],
   "source": [
    "sentences = [['first', 'sentence'], ['second', 'sentence'], ['third', 'sentence']]\n",
    "model = gensim.models.Word2Vec(sentences, min_count=1)\n",
    "model.wv['sentence']"
   ]
  },
  {
   "cell_type": "code",
   "execution_count": null,
   "metadata": {},
   "outputs": [],
   "source": []
  }
 ],
 "metadata": {
  "kernelspec": {
   "display_name": "Python 3",
   "language": "python",
   "name": "python3"
  },
  "language_info": {
   "codemirror_mode": {
    "name": "ipython",
    "version": 3
   },
   "file_extension": ".py",
   "mimetype": "text/x-python",
   "name": "python",
   "nbconvert_exporter": "python",
   "pygments_lexer": "ipython3",
   "version": "3.6.4"
  }
 },
 "nbformat": 4,
 "nbformat_minor": 2
}
