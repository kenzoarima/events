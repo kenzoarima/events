{
 "cells": [
  {
   "cell_type": "code",
   "execution_count": 1,
   "metadata": {},
   "outputs": [
    {
     "name": "stderr",
     "output_type": "stream",
     "text": [
      "Using TensorFlow backend.\n"
     ]
    },
    {
     "name": "stdout",
     "output_type": "stream",
     "text": [
      "239 blacklist tokens\n"
     ]
    }
   ],
   "source": [
    "import re\n",
    "import itertools\n",
    "import math\n",
    "import time\n",
    "from datetime import datetime, timezone\n",
    "import collections\n",
    "\n",
    "from bs4 import BeautifulSoup\n",
    "import requests\n",
    "import numpy as np\n",
    "import gensim\n",
    "\n",
    "from gensim.utils import simple_preprocess, simple_tokenize\n",
    "from gensim.parsing.preprocessing import STOPWORDS, DEFAULT_FILTERS\n",
    "\n",
    "from keras.preprocessing import sequence\n",
    "from keras.models import Sequential\n",
    "from keras.layers import Dense, Dropout, Activation\n",
    "from keras.layers import Embedding\n",
    "from keras.layers import LSTM\n",
    "from keras.layers import Conv1D, MaxPooling1D\n",
    "\n",
    "import config\n",
    "from events.meetup import gatherer, formatter, filters "
   ]
  },
  {
   "cell_type": "code",
   "execution_count": 7,
   "metadata": {},
   "outputs": [
    {
     "name": "stdout",
     "output_type": "stream",
     "text": [
      "Gathered 548 groups\n",
      "Found 403 good meetup groups, 145 bad meetup groups\n",
      "blockchain groups: 118, business groups: 27\n",
      "Found 247 good meetup events\n",
      "Filtered 247 down to 131 good meetup events\n",
      "Removed good duplicate events from 131 to 69\n",
      "Found 317 blockchain meetup events\n",
      "Found 197 business meetup events\n"
     ]
    }
   ],
   "source": [
    "groups = gatherer.get_groups(config.meetup['groups_url'], config.meetup['params'].copy())\n",
    "print('Gathered', len(groups), 'groups')\n",
    "\n",
    "good_ids, multi_bad_ids, good_indexes, bad_indexes = gatherer.good_bad_group_ids(\n",
    "    groups, config.multi_enhanced_blacklist_tokens, config.token_thresholds)\n",
    "bad_ids = list(itertools.chain.from_iterable(multi_bad_ids))\n",
    "print('Found {} good meetup groups, {} bad meetup groups'.format(len(good_ids), len(bad_ids)))\n",
    "print('blockchain groups: {}, business groups: {}'.format(len(multi_bad_ids[0]), len(multi_bad_ids[1])))\n",
    "\n",
    "events_data = gatherer.get_groups_events(config.meetup['events_url'],\n",
    "    config.meetup['params'].copy(), good_ids, config.meetup['max_meetup_responses'])\n",
    "print('Found {} good meetup events'.format(len(events_data)))\n",
    "\n",
    "good_events = list(filters.get_good_events(events_data, config.blacklist_tokens,\n",
    "                    config.meetup['params']['country'], config.meetup['max_event_hours']))\n",
    "print('Filtered {} down to {} good meetup events'.format(len(events_data), len(good_events)))\n",
    "\n",
    "good_filtered_events = list(filters.remove_duplicate_events(good_events))\n",
    "print('Removed good duplicate events from {} to {}'.format(\n",
    "    len(good_events), len(good_filtered_events)))\n",
    "\n",
    "\n",
    "blockchain_events = gatherer.get_groups_events(config.meetup['events_url'],\n",
    "    config.meetup['params'].copy(), multi_bad_ids[0], config.meetup['max_meetup_responses'])\n",
    "print('Found {} blockchain meetup events'.format(len(blockchain_events)))\n",
    "business_events = gatherer.get_groups_events(config.meetup['events_url'],\n",
    "    config.meetup['params'].copy(), multi_bad_ids[1], config.meetup['max_meetup_responses'])\n",
    "print('Found {} business meetup events'.format(len(business_events)))"
   ]
  },
  {
   "cell_type": "code",
   "execution_count": 10,
   "metadata": {},
   "outputs": [
    {
     "name": "stdout",
     "output_type": "stream",
     "text": [
      "35\n"
     ]
    }
   ],
   "source": [
    "blockchain_events = list(filters.remove_duplicate_events(blockchain_events))\n",
    "print(len(blockchain_events))"
   ]
  },
  {
   "cell_type": "code",
   "execution_count": 12,
   "metadata": {},
   "outputs": [
    {
     "name": "stdout",
     "output_type": "stream",
     "text": [
      "11\n"
     ]
    }
   ],
   "source": [
    "business_events = list(filters.remove_duplicate_events(business_events))\n",
    "print(len(business_events))"
   ]
  },
  {
   "cell_type": "code",
   "execution_count": 53,
   "metadata": {},
   "outputs": [],
   "source": [
    "good_tokens = [list(filters.tokenize(e['description'])) for e in good_filtered_events]\n",
    "blockchain_tokens = [list(filters.tokenize(e['description'])) for e in blockchain_events]\n",
    "business_tokens = [list(filters.tokenize(e['description'])) for e in business_events]"
   ]
  },
  {
   "cell_type": "code",
   "execution_count": 54,
   "metadata": {},
   "outputs": [
    {
     "data": {
      "text/plain": [
       "2674"
      ]
     },
     "execution_count": 54,
     "metadata": {},
     "output_type": "execute_result"
    }
   ],
   "source": [
    "c = collections.Counter(itertools.chain.from_iterable(blockchain_tokens))\n",
    "c.update(itertools.chain.from_iterable(business_tokens))\n",
    "c.update(itertools.chain.from_iterable(good_tokens))\n",
    "vocab = set(list(c.elements()))\n",
    "len(vocab)"
   ]
  },
  {
   "cell_type": "code",
   "execution_count": 55,
   "metadata": {},
   "outputs": [],
   "source": [
    "index_to_word = {i: word for i, word in enumerate(vocab)}\n",
    "word_to_index = {word: i for i, word in enumerate(vocab)}"
   ]
  },
  {
   "cell_type": "code",
   "execution_count": 56,
   "metadata": {},
   "outputs": [],
   "source": [
    "blockchain_sentences = []\n",
    "for tokens in blockchain_tokens:\n",
    "    blockchain_sentences.append([word_to_index[word] for word in tokens])\n",
    "    \n",
    "business_sentences = []\n",
    "for tokens in business_tokens:\n",
    "    business_sentences.append([word_to_index[word] for word in tokens])\n",
    "    \n",
    "good_sentences = []\n",
    "for tokens in good_tokens:\n",
    "    good_sentences.append([word_to_index[word] for word in tokens])"
   ]
  },
  {
   "cell_type": "code",
   "execution_count": 58,
   "metadata": {},
   "outputs": [
    {
     "data": {
      "text/plain": [
       "(35, 11, 69)"
      ]
     },
     "execution_count": 58,
     "metadata": {},
     "output_type": "execute_result"
    }
   ],
   "source": [
    "len(blockchain_sentences), len(business_sentences), len(good_sentences)"
   ]
  },
  {
   "cell_type": "code",
   "execution_count": 80,
   "metadata": {},
   "outputs": [],
   "source": [
    "x_train = sequence.pad_sequences(good_sentences[:11] + blockchain_sentences[:11] + business_sentences)"
   ]
  },
  {
   "cell_type": "code",
   "execution_count": 101,
   "metadata": {},
   "outputs": [],
   "source": [
    "y_train = np.zeros((33, 3))\n",
    "y_train[:11, 0] = 1\n",
    "y_train[11:22, 1] = 1\n",
    "y_train[22:, 2] = 1"
   ]
  },
  {
   "cell_type": "code",
   "execution_count": 102,
   "metadata": {},
   "outputs": [
    {
     "data": {
      "text/plain": [
       "((33, 197), (33, 3))"
      ]
     },
     "execution_count": 102,
     "metadata": {},
     "output_type": "execute_result"
    }
   ],
   "source": [
    "x_train.shape, y_train.shape"
   ]
  },
  {
   "cell_type": "code",
   "execution_count": 103,
   "metadata": {},
   "outputs": [
    {
     "name": "stdout",
     "output_type": "stream",
     "text": [
      "Build model...\n",
      "Train...\n",
      "Train on 29 samples, validate on 4 samples\n",
      "Epoch 1/100\n",
      "29/29 [==============================] - 1s 47ms/step - loss: 0.6942 - acc: 0.4828 - val_loss: 0.7005 - val_acc: 0.3333\n",
      "Epoch 2/100\n",
      "29/29 [==============================] - 0s 4ms/step - loss: 0.6863 - acc: 0.6092 - val_loss: 0.7025 - val_acc: 0.3333\n",
      "Epoch 3/100\n",
      "29/29 [==============================] - 0s 4ms/step - loss: 0.6782 - acc: 0.7356 - val_loss: 0.7050 - val_acc: 0.5833\n",
      "Epoch 4/100\n",
      "29/29 [==============================] - 0s 3ms/step - loss: 0.6705 - acc: 0.7586 - val_loss: 0.7086 - val_acc: 0.5833\n",
      "Epoch 5/100\n",
      "29/29 [==============================] - 0s 3ms/step - loss: 0.6611 - acc: 0.7126 - val_loss: 0.7134 - val_acc: 0.5833\n",
      "Epoch 6/100\n",
      "29/29 [==============================] - 0s 3ms/step - loss: 0.6517 - acc: 0.7011 - val_loss: 0.7203 - val_acc: 0.5833\n",
      "Epoch 7/100\n",
      "29/29 [==============================] - 0s 3ms/step - loss: 0.6407 - acc: 0.6897 - val_loss: 0.7302 - val_acc: 0.5833\n",
      "Epoch 8/100\n",
      "29/29 [==============================] - 0s 3ms/step - loss: 0.6289 - acc: 0.6782 - val_loss: 0.7448 - val_acc: 0.6667\n",
      "Epoch 9/100\n",
      "29/29 [==============================] - 0s 3ms/step - loss: 0.6168 - acc: 0.6667 - val_loss: 0.7668 - val_acc: 0.6667\n",
      "Epoch 10/100\n",
      "29/29 [==============================] - 0s 3ms/step - loss: 0.6026 - acc: 0.6667 - val_loss: 0.8011 - val_acc: 0.6667\n",
      "Epoch 11/100\n",
      "29/29 [==============================] - 0s 3ms/step - loss: 0.5909 - acc: 0.6667 - val_loss: 0.8497 - val_acc: 0.6667\n",
      "Epoch 12/100\n",
      "29/29 [==============================] - 0s 3ms/step - loss: 0.5820 - acc: 0.6667 - val_loss: 0.8964 - val_acc: 0.6667\n",
      "Epoch 13/100\n",
      "29/29 [==============================] - 0s 3ms/step - loss: 0.5768 - acc: 0.6667 - val_loss: 0.9158 - val_acc: 0.6667\n",
      "Epoch 14/100\n",
      "29/29 [==============================] - 0s 3ms/step - loss: 0.5699 - acc: 0.6667 - val_loss: 0.9095 - val_acc: 0.6667\n",
      "Epoch 15/100\n",
      "29/29 [==============================] - 0s 3ms/step - loss: 0.5568 - acc: 0.6667 - val_loss: 0.8881 - val_acc: 0.6667\n",
      "Epoch 16/100\n",
      "29/29 [==============================] - 0s 3ms/step - loss: 0.5407 - acc: 0.6667 - val_loss: 0.8617 - val_acc: 0.6667\n",
      "Epoch 17/100\n",
      "29/29 [==============================] - 0s 4ms/step - loss: 0.5220 - acc: 0.6782 - val_loss: 0.8379 - val_acc: 0.5833\n",
      "Epoch 18/100\n",
      "29/29 [==============================] - 0s 4ms/step - loss: 0.5021 - acc: 0.7241 - val_loss: 0.8213 - val_acc: 0.5833\n",
      "Epoch 19/100\n",
      "29/29 [==============================] - 0s 3ms/step - loss: 0.4828 - acc: 0.7586 - val_loss: 0.8135 - val_acc: 0.5833\n",
      "Epoch 20/100\n",
      "29/29 [==============================] - 0s 3ms/step - loss: 0.4614 - acc: 0.7931 - val_loss: 0.8151 - val_acc: 0.5000\n",
      "Epoch 21/100\n",
      "29/29 [==============================] - 0s 4ms/step - loss: 0.4376 - acc: 0.8506 - val_loss: 0.8259 - val_acc: 0.5000\n",
      "Epoch 22/100\n",
      "29/29 [==============================] - 0s 4ms/step - loss: 0.4128 - acc: 0.8851 - val_loss: 0.8466 - val_acc: 0.4167\n",
      "Epoch 23/100\n",
      "29/29 [==============================] - 0s 4ms/step - loss: 0.3845 - acc: 0.8966 - val_loss: 0.8775 - val_acc: 0.4167\n",
      "Epoch 24/100\n",
      "29/29 [==============================] - 0s 4ms/step - loss: 0.3547 - acc: 0.9080 - val_loss: 0.9185 - val_acc: 0.3333\n",
      "Epoch 25/100\n",
      "29/29 [==============================] - 0s 4ms/step - loss: 0.3275 - acc: 0.9195 - val_loss: 0.9662 - val_acc: 0.3333\n",
      "Epoch 26/100\n",
      "29/29 [==============================] - 0s 4ms/step - loss: 0.3006 - acc: 0.9080 - val_loss: 1.0160 - val_acc: 0.3333\n",
      "Epoch 27/100\n",
      "29/29 [==============================] - 0s 4ms/step - loss: 0.2738 - acc: 0.9540 - val_loss: 1.0636 - val_acc: 0.3333\n",
      "Epoch 28/100\n",
      "29/29 [==============================] - 0s 4ms/step - loss: 0.2503 - acc: 0.9425 - val_loss: 1.1080 - val_acc: 0.3333\n",
      "Epoch 29/100\n",
      "29/29 [==============================] - 0s 3ms/step - loss: 0.2266 - acc: 0.9540 - val_loss: 1.1493 - val_acc: 0.3333\n",
      "Epoch 30/100\n",
      "29/29 [==============================] - 0s 3ms/step - loss: 0.2044 - acc: 0.9540 - val_loss: 1.1895 - val_acc: 0.3333\n",
      "Epoch 31/100\n",
      "29/29 [==============================] - 0s 3ms/step - loss: 0.1838 - acc: 0.9655 - val_loss: 1.2326 - val_acc: 0.3333\n",
      "Epoch 32/100\n",
      "29/29 [==============================] - 0s 3ms/step - loss: 0.1650 - acc: 0.9770 - val_loss: 1.2861 - val_acc: 0.3333\n",
      "Epoch 33/100\n",
      "29/29 [==============================] - 0s 4ms/step - loss: 0.1471 - acc: 1.0000 - val_loss: 1.3579 - val_acc: 0.3333\n",
      "Epoch 34/100\n",
      "29/29 [==============================] - 0s 4ms/step - loss: 0.1327 - acc: 1.0000 - val_loss: 1.4515 - val_acc: 0.3333\n",
      "Epoch 35/100\n",
      "29/29 [==============================] - 0s 4ms/step - loss: 0.1173 - acc: 1.0000 - val_loss: 1.4849 - val_acc: 0.3333\n",
      "Epoch 36/100\n",
      "29/29 [==============================] - 0s 3ms/step - loss: 0.1017 - acc: 1.0000 - val_loss: 1.5967 - val_acc: 0.3333\n",
      "Epoch 37/100\n",
      "29/29 [==============================] - 0s 3ms/step - loss: 0.0893 - acc: 1.0000 - val_loss: 1.7111 - val_acc: 0.3333\n",
      "Epoch 38/100\n",
      "29/29 [==============================] - 0s 3ms/step - loss: 0.0801 - acc: 1.0000 - val_loss: 1.5577 - val_acc: 0.3333\n",
      "Epoch 39/100\n",
      "29/29 [==============================] - 0s 3ms/step - loss: 0.0720 - acc: 1.0000 - val_loss: 1.7686 - val_acc: 0.3333\n",
      "Epoch 40/100\n",
      "29/29 [==============================] - 0s 3ms/step - loss: 0.0602 - acc: 1.0000 - val_loss: 1.8314 - val_acc: 0.3333\n",
      "Epoch 41/100\n",
      "29/29 [==============================] - 0s 3ms/step - loss: 0.0559 - acc: 1.0000 - val_loss: 1.3984 - val_acc: 0.5000\n",
      "Epoch 42/100\n",
      "29/29 [==============================] - 0s 3ms/step - loss: 0.0690 - acc: 1.0000 - val_loss: 1.5117 - val_acc: 0.4167\n",
      "Epoch 43/100\n",
      "29/29 [==============================] - 0s 3ms/step - loss: 0.0550 - acc: 1.0000 - val_loss: 2.2258 - val_acc: 0.3333\n",
      "Epoch 44/100\n",
      "29/29 [==============================] - 0s 4ms/step - loss: 0.0445 - acc: 1.0000 - val_loss: 2.4170 - val_acc: 0.3333\n",
      "Epoch 45/100\n",
      "29/29 [==============================] - 0s 4ms/step - loss: 0.0456 - acc: 1.0000 - val_loss: 2.3820 - val_acc: 0.3333\n",
      "Epoch 46/100\n",
      "29/29 [==============================] - 0s 4ms/step - loss: 0.0368 - acc: 1.0000 - val_loss: 2.2763 - val_acc: 0.3333\n",
      "Epoch 47/100\n",
      "29/29 [==============================] - 0s 4ms/step - loss: 0.0313 - acc: 1.0000 - val_loss: 2.1772 - val_acc: 0.3333\n",
      "Epoch 48/100\n",
      "29/29 [==============================] - 0s 4ms/step - loss: 0.0276 - acc: 1.0000 - val_loss: 2.1210 - val_acc: 0.3333\n",
      "Epoch 49/100\n",
      "29/29 [==============================] - 0s 4ms/step - loss: 0.0264 - acc: 1.0000 - val_loss: 2.1039 - val_acc: 0.3333\n",
      "Epoch 50/100\n",
      "29/29 [==============================] - 0s 4ms/step - loss: 0.0241 - acc: 1.0000 - val_loss: 2.1127 - val_acc: 0.3333\n",
      "Epoch 51/100\n",
      "29/29 [==============================] - 0s 4ms/step - loss: 0.0229 - acc: 1.0000 - val_loss: 2.1428 - val_acc: 0.3333\n",
      "Epoch 52/100\n",
      "29/29 [==============================] - 0s 4ms/step - loss: 0.0212 - acc: 1.0000 - val_loss: 2.1889 - val_acc: 0.3333\n",
      "Epoch 53/100\n",
      "29/29 [==============================] - 0s 3ms/step - loss: 0.0197 - acc: 1.0000 - val_loss: 2.2456 - val_acc: 0.3333\n",
      "Epoch 54/100\n",
      "29/29 [==============================] - 0s 3ms/step - loss: 0.0182 - acc: 1.0000 - val_loss: 2.3100 - val_acc: 0.3333\n",
      "Epoch 55/100\n",
      "29/29 [==============================] - 0s 3ms/step - loss: 0.0166 - acc: 1.0000 - val_loss: 2.3756 - val_acc: 0.3333\n",
      "Epoch 56/100\n",
      "29/29 [==============================] - 0s 3ms/step - loss: 0.0156 - acc: 1.0000 - val_loss: 2.4404 - val_acc: 0.3333\n",
      "Epoch 57/100\n",
      "29/29 [==============================] - 0s 3ms/step - loss: 0.0144 - acc: 1.0000 - val_loss: 2.5023 - val_acc: 0.3333\n",
      "Epoch 58/100\n",
      "29/29 [==============================] - 0s 4ms/step - loss: 0.0132 - acc: 1.0000 - val_loss: 2.5605 - val_acc: 0.3333\n",
      "Epoch 59/100\n",
      "29/29 [==============================] - 0s 4ms/step - loss: 0.0124 - acc: 1.0000 - val_loss: 2.6140 - val_acc: 0.3333\n",
      "Epoch 60/100\n",
      "29/29 [==============================] - 0s 3ms/step - loss: 0.0116 - acc: 1.0000 - val_loss: 2.6631 - val_acc: 0.3333\n",
      "Epoch 61/100\n",
      "29/29 [==============================] - 0s 4ms/step - loss: 0.0108 - acc: 1.0000 - val_loss: 2.7085 - val_acc: 0.3333\n",
      "Epoch 62/100\n",
      "29/29 [==============================] - 0s 4ms/step - loss: 0.0103 - acc: 1.0000 - val_loss: 2.7505 - val_acc: 0.3333\n"
     ]
    },
    {
     "name": "stdout",
     "output_type": "stream",
     "text": [
      "Epoch 63/100\n",
      "29/29 [==============================] - 0s 4ms/step - loss: 0.0096 - acc: 1.0000 - val_loss: 2.7892 - val_acc: 0.3333\n",
      "Epoch 64/100\n",
      "29/29 [==============================] - 0s 4ms/step - loss: 0.0091 - acc: 1.0000 - val_loss: 2.8250 - val_acc: 0.3333\n",
      "Epoch 65/100\n",
      "29/29 [==============================] - 0s 3ms/step - loss: 0.0086 - acc: 1.0000 - val_loss: 2.8577 - val_acc: 0.3333\n",
      "Epoch 66/100\n",
      "29/29 [==============================] - 0s 3ms/step - loss: 0.0081 - acc: 1.0000 - val_loss: 2.8883 - val_acc: 0.3333\n",
      "Epoch 67/100\n",
      "29/29 [==============================] - 0s 3ms/step - loss: 0.0078 - acc: 1.0000 - val_loss: 2.9167 - val_acc: 0.3333\n",
      "Epoch 68/100\n",
      "29/29 [==============================] - 0s 3ms/step - loss: 0.0075 - acc: 1.0000 - val_loss: 2.9427 - val_acc: 0.3333\n",
      "Epoch 69/100\n",
      "29/29 [==============================] - 0s 3ms/step - loss: 0.0071 - acc: 1.0000 - val_loss: 2.9671 - val_acc: 0.3333\n",
      "Epoch 70/100\n",
      "29/29 [==============================] - 0s 4ms/step - loss: 0.0067 - acc: 1.0000 - val_loss: 2.9900 - val_acc: 0.3333\n",
      "Epoch 71/100\n",
      "29/29 [==============================] - 0s 4ms/step - loss: 0.0065 - acc: 1.0000 - val_loss: 3.0116 - val_acc: 0.3333\n",
      "Epoch 72/100\n",
      "29/29 [==============================] - 0s 4ms/step - loss: 0.0063 - acc: 1.0000 - val_loss: 3.0318 - val_acc: 0.3333\n",
      "Epoch 73/100\n",
      "29/29 [==============================] - 0s 4ms/step - loss: 0.0060 - acc: 1.0000 - val_loss: 3.0510 - val_acc: 0.3333\n",
      "Epoch 74/100\n",
      "29/29 [==============================] - 0s 4ms/step - loss: 0.0058 - acc: 1.0000 - val_loss: 3.0689 - val_acc: 0.3333\n",
      "Epoch 75/100\n",
      "29/29 [==============================] - 0s 4ms/step - loss: 0.0056 - acc: 1.0000 - val_loss: 3.0860 - val_acc: 0.3333\n",
      "Epoch 76/100\n",
      "29/29 [==============================] - 0s 4ms/step - loss: 0.0055 - acc: 1.0000 - val_loss: 3.1025 - val_acc: 0.3333\n",
      "Epoch 77/100\n",
      "29/29 [==============================] - 0s 4ms/step - loss: 0.0053 - acc: 1.0000 - val_loss: 3.1188 - val_acc: 0.3333\n",
      "Epoch 78/100\n",
      "29/29 [==============================] - 0s 3ms/step - loss: 0.0052 - acc: 1.0000 - val_loss: 3.1349 - val_acc: 0.3333\n",
      "Epoch 79/100\n",
      "29/29 [==============================] - 0s 3ms/step - loss: 0.0050 - acc: 1.0000 - val_loss: 3.1508 - val_acc: 0.3333\n",
      "Epoch 80/100\n",
      "29/29 [==============================] - 0s 3ms/step - loss: 0.0049 - acc: 1.0000 - val_loss: 3.1666 - val_acc: 0.3333\n",
      "Epoch 81/100\n",
      "29/29 [==============================] - 0s 4ms/step - loss: 0.0047 - acc: 1.0000 - val_loss: 3.1821 - val_acc: 0.3333\n",
      "Epoch 82/100\n",
      "29/29 [==============================] - 0s 4ms/step - loss: 0.0047 - acc: 1.0000 - val_loss: 3.1975 - val_acc: 0.3333\n",
      "Epoch 83/100\n",
      "29/29 [==============================] - 0s 3ms/step - loss: 0.0045 - acc: 1.0000 - val_loss: 3.2125 - val_acc: 0.3333\n",
      "Epoch 84/100\n",
      "29/29 [==============================] - 0s 4ms/step - loss: 0.0044 - acc: 1.0000 - val_loss: 3.2271 - val_acc: 0.3333\n",
      "Epoch 85/100\n",
      "29/29 [==============================] - 0s 4ms/step - loss: 0.0043 - acc: 1.0000 - val_loss: 3.2416 - val_acc: 0.3333\n",
      "Epoch 86/100\n",
      "29/29 [==============================] - 0s 3ms/step - loss: 0.0042 - acc: 1.0000 - val_loss: 3.2558 - val_acc: 0.3333\n",
      "Epoch 87/100\n",
      "29/29 [==============================] - 0s 3ms/step - loss: 0.0041 - acc: 1.0000 - val_loss: 3.2696 - val_acc: 0.3333\n",
      "Epoch 88/100\n",
      "29/29 [==============================] - 0s 3ms/step - loss: 0.0041 - acc: 1.0000 - val_loss: 3.2829 - val_acc: 0.3333\n",
      "Epoch 89/100\n",
      "29/29 [==============================] - 0s 3ms/step - loss: 0.0040 - acc: 1.0000 - val_loss: 3.2957 - val_acc: 0.3333\n",
      "Epoch 90/100\n",
      "29/29 [==============================] - 0s 4ms/step - loss: 0.0039 - acc: 1.0000 - val_loss: 3.3079 - val_acc: 0.3333\n",
      "Epoch 91/100\n",
      "29/29 [==============================] - 0s 4ms/step - loss: 0.0038 - acc: 1.0000 - val_loss: 3.3199 - val_acc: 0.3333\n",
      "Epoch 92/100\n",
      "29/29 [==============================] - 0s 4ms/step - loss: 0.0038 - acc: 1.0000 - val_loss: 3.3312 - val_acc: 0.3333\n",
      "Epoch 93/100\n",
      "29/29 [==============================] - 0s 3ms/step - loss: 0.0037 - acc: 1.0000 - val_loss: 3.3419 - val_acc: 0.3333\n",
      "Epoch 94/100\n",
      "29/29 [==============================] - 0s 3ms/step - loss: 0.0036 - acc: 1.0000 - val_loss: 3.3521 - val_acc: 0.3333\n",
      "Epoch 95/100\n",
      "29/29 [==============================] - 0s 4ms/step - loss: 0.0035 - acc: 1.0000 - val_loss: 3.3620 - val_acc: 0.3333\n",
      "Epoch 96/100\n",
      "29/29 [==============================] - 0s 4ms/step - loss: 0.0035 - acc: 1.0000 - val_loss: 3.3715 - val_acc: 0.3333\n",
      "Epoch 97/100\n",
      "29/29 [==============================] - 0s 3ms/step - loss: 0.0034 - acc: 1.0000 - val_loss: 3.3807 - val_acc: 0.3333\n",
      "Epoch 98/100\n",
      "29/29 [==============================] - 0s 3ms/step - loss: 0.0034 - acc: 1.0000 - val_loss: 3.3897 - val_acc: 0.3333\n",
      "Epoch 99/100\n",
      "29/29 [==============================] - 0s 3ms/step - loss: 0.0034 - acc: 1.0000 - val_loss: 3.3981 - val_acc: 0.3333\n",
      "Epoch 100/100\n",
      "29/29 [==============================] - 0s 4ms/step - loss: 0.0033 - acc: 1.0000 - val_loss: 3.4063 - val_acc: 0.3333\n"
     ]
    },
    {
     "data": {
      "text/plain": [
       "<keras.callbacks.History at 0x121be8f60>"
      ]
     },
     "execution_count": 103,
     "metadata": {},
     "output_type": "execute_result"
    }
   ],
   "source": [
    "epochs = 100\n",
    "\n",
    "\n",
    "# Embedding\n",
    "max_features = len(vocab)\n",
    "input_length = x_train.shape[1]\n",
    "embedding_size = 128\n",
    "\n",
    "# Convolution\n",
    "kernel_size = 5\n",
    "filters = 64\n",
    "pool_size = 4\n",
    "\n",
    "# LSTM\n",
    "lstm_output_size = 70\n",
    "\n",
    "print('Build model...')\n",
    "\n",
    "model = Sequential()\n",
    "model.add(Embedding(max_features, embedding_size, input_length=input_length))\n",
    "model.add(Dropout(0.25))\n",
    "model.add(Conv1D(filters,\n",
    "                 kernel_size,\n",
    "                 padding='valid',\n",
    "                 activation='relu',\n",
    "                 strides=1))\n",
    "model.add(MaxPooling1D(pool_size=pool_size))\n",
    "model.add(LSTM(lstm_output_size))\n",
    "model.add(Dense(3))\n",
    "model.add(Activation('sigmoid'))\n",
    "\n",
    "model.compile(loss='binary_crossentropy',\n",
    "              optimizer='adam',\n",
    "              metrics=['accuracy'])\n",
    "\n",
    "print('Train...')\n",
    "model.fit(x_train, y_train,\n",
    "          epochs=epochs,\n",
    "          validation_split=0.1)"
   ]
  },
  {
   "cell_type": "code",
   "execution_count": null,
   "metadata": {},
   "outputs": [],
   "source": [
    "score, acc = model.evaluate(x_test, y_test, batch_size=batch_size)\n",
    "print('Test score:', score)\n",
    "print('Test accuracy:', acc)"
   ]
  },
  {
   "cell_type": "code",
   "execution_count": 112,
   "metadata": {},
   "outputs": [
    {
     "data": {
      "text/plain": [
       "{'created': 1522319644000,\n",
       " 'description': '<p>There are 8 ways according to \"the art of user story writing\". This series will be split into 2. Each session will cover 4 ways of user story slicing.</p>',\n",
       " 'duration': 5400000,\n",
       " 'event_url': 'https://www.meetup.com/Scrum-Master-Guild/events/249222554/',\n",
       " 'group': {'created': 1521545099000,\n",
       "  'group_lat': 1.2999999523162842,\n",
       "  'group_lon': 103.8499984741211,\n",
       "  'id': 27886025,\n",
       "  'join_mode': 'open',\n",
       "  'name': 'Scrum Master Guild',\n",
       "  'urlname': 'Scrum-Master-Guild',\n",
       "  'who': 'Members'},\n",
       " 'headcount': 0,\n",
       " 'id': '249222554',\n",
       " 'maybe_rsvp_count': 0,\n",
       " 'name': 'Topic - Story Slicing - 1',\n",
       " 'status': 'upcoming',\n",
       " 'time': 1530009000000,\n",
       " 'updated': 1522319644000,\n",
       " 'utc_offset': 28800000,\n",
       " 'venue': {'address_1': '10 Marina Boulevard, Singapore 018983',\n",
       "  'city': 'Singapore',\n",
       "  'country': 'sg',\n",
       "  'id': 25036122,\n",
       "  'lat': 1.279246,\n",
       "  'localized_country_name': 'Singapore',\n",
       "  'lon': 103.854111,\n",
       "  'name': 'IBM Studio, MBFC Tower 2, Level 42',\n",
       "  'repinned': False},\n",
       " 'visibility': 'public',\n",
       " 'waitlist_count': 0,\n",
       " 'yes_rsvp_count': 2}"
      ]
     },
     "execution_count": 112,
     "metadata": {},
     "output_type": "execute_result"
    }
   ],
   "source": [
    "x_test = sequence.pad_sequences(good_sentences[11:], maxlen=input_length)\n",
    "pred = model.predict(x_test)\n",
    "good_filtered_events[-3]"
   ]
  },
  {
   "cell_type": "code",
   "execution_count": null,
   "metadata": {},
   "outputs": [],
   "source": []
  }
 ],
 "metadata": {
  "kernelspec": {
   "display_name": "Python 3",
   "language": "python",
   "name": "python3"
  },
  "language_info": {
   "codemirror_mode": {
    "name": "ipython",
    "version": 3
   },
   "file_extension": ".py",
   "mimetype": "text/x-python",
   "name": "python",
   "nbconvert_exporter": "python",
   "pygments_lexer": "ipython3",
   "version": "3.6.4"
  }
 },
 "nbformat": 4,
 "nbformat_minor": 2
}
